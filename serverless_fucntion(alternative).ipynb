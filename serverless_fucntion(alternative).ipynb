{
 "cells": [
  {
   "cell_type": "markdown",
   "id": "14aaf78e",
   "metadata": {},
   "source": [
    "# Introduction to Big Data Modern Technologies course"
   ]
  },
  {
   "cell_type": "markdown",
   "id": "8faa16c5",
   "metadata": {},
   "source": [
    "## FINAL PROJECT: lab work\n",
    "### Part 1. Object storage and database pipeline (Serverless)"
   ]
  },
  {
   "cell_type": "markdown",
   "id": "c6b35c29",
   "metadata": {},
   "source": [
    "### 1. Libraries and credentials"
   ]
  },
  {
   "cell_type": "code",
   "execution_count": 14,
   "id": "d54e863a",
   "metadata": {},
   "outputs": [
    {
     "name": "stdout",
     "output_type": "stream",
     "text": [
      "Requirement already satisfied: pandas in /opt/conda/lib/python3.9/site-packages (1.3.4)\n",
      "Requirement already satisfied: python-dateutil>=2.7.3 in /opt/conda/lib/python3.9/site-packages (from pandas) (2.8.2)\n",
      "Requirement already satisfied: pytz>=2017.3 in /opt/conda/lib/python3.9/site-packages (from pandas) (2021.3)\n",
      "Requirement already satisfied: numpy>=1.17.3 in /opt/conda/lib/python3.9/site-packages (from pandas) (1.20.3)\n",
      "Requirement already satisfied: six>=1.5 in /opt/conda/lib/python3.9/site-packages (from python-dateutil>=2.7.3->pandas) (1.16.0)\n",
      "Requirement already satisfied: clickhouse-connect in /opt/conda/lib/python3.9/site-packages (0.5.20)\n",
      "Requirement already satisfied: pytz in /opt/conda/lib/python3.9/site-packages (from clickhouse-connect) (2021.3)\n",
      "Requirement already satisfied: urllib3>=1.26 in /opt/conda/lib/python3.9/site-packages (from clickhouse-connect) (1.26.7)\n",
      "Requirement already satisfied: certifi in /opt/conda/lib/python3.9/site-packages (from clickhouse-connect) (2021.10.8)\n",
      "Requirement already satisfied: zstandard in /opt/conda/lib/python3.9/site-packages (from clickhouse-connect) (0.20.0)\n",
      "Requirement already satisfied: lz4 in /opt/conda/lib/python3.9/site-packages (from clickhouse-connect) (4.3.2)\n",
      "Requirement already satisfied: names in /opt/conda/lib/python3.9/site-packages (0.3.0)\n"
     ]
    }
   ],
   "source": [
    "!pip install pandas\n",
    "!pip install clickhouse-connect\n",
    "!pip install names"
   ]
  },
  {
   "cell_type": "code",
   "execution_count": 15,
   "id": "b8b8a477",
   "metadata": {},
   "outputs": [],
   "source": [
    "import os\n",
    "import sys\n",
    "import json\n",
    "import boto3\n",
    "import names\n",
    "import datetime\n",
    "import clickhouse_connect\n",
    "import pandas as pd"
   ]
  },
  {
   "cell_type": "code",
   "execution_count": 16,
   "id": "e2851e71",
   "metadata": {},
   "outputs": [
    {
     "name": "stdout",
     "output_type": "stream",
     "text": [
      "dict_keys(['aws_access_key_id', 'aws_secret_access_key'])\n"
     ]
    }
   ],
   "source": [
    "def access_data(file_path):\n",
    "    with open(file_path) as file:\n",
    "        access_data = json.load(file)\n",
    "    return access_data\n",
    "\n",
    "creds = access_data(file_path='Selezneva_access_bucket.json')\n",
    "print(creds.keys())"
   ]
  },
  {
   "cell_type": "markdown",
   "id": "1588bf7c",
   "metadata": {},
   "source": [
    "### 2. Raw data"
   ]
  },
  {
   "cell_type": "code",
   "execution_count": 17,
   "id": "73c0575e",
   "metadata": {},
   "outputs": [],
   "source": [
    "session = boto3.session.Session()\n",
    "s3 = session.client(\n",
    "    service_name='s3',\n",
    "    aws_access_key_id=creds['aws_access_key_id'],\n",
    "    aws_secret_access_key=creds['aws_secret_access_key'],\n",
    "    endpoint_url='https://storage.yandexcloud.net'\n",
    ")"
   ]
  },
  {
   "cell_type": "code",
   "execution_count": 20,
   "id": "a750a534",
   "metadata": {},
   "outputs": [],
   "source": [
    "DATA_BUCKET = 'shelkoviydivan'"
   ]
  },
  {
   "cell_type": "code",
   "execution_count": 21,
   "id": "b4899054",
   "metadata": {},
   "outputs": [
    {
     "name": "stdout",
     "output_type": "stream",
     "text": [
      "dict_keys(['host', 'port', 'dbname', 'user', 'password', 'sslrootcert'])\n"
     ]
    }
   ],
   "source": [
    "s3.download_file(DATA_BUCKET, 'YandexInternalRootCA.crt', 'YandexInternalRootCA.crt')\n",
    "s3.download_file(DATA_BUCKET, 'access_ch.json', 'access_ch.json')\n",
    "\n",
    "access_ch = access_data('access_ch.json')\n",
    "print(access_ch.keys())"
   ]
  },
  {
   "cell_type": "code",
   "execution_count": 22,
   "id": "4d1527ba",
   "metadata": {},
   "outputs": [],
   "source": [
    "get_object_response = s3.get_object(\n",
    "    Bucket=DATA_BUCKET, \n",
    "    Key='jhub_logs_large.csv'\n",
    ")"
   ]
  },
  {
   "cell_type": "code",
   "execution_count": 23,
   "id": "7413807b",
   "metadata": {},
   "outputs": [
    {
     "name": "stdout",
     "output_type": "stream",
     "text": [
      "<class 'pandas.core.frame.DataFrame'>\n",
      "RangeIndex: 699065 entries, 0 to 699064\n",
      "Data columns (total 5 columns):\n",
      " #   Column      Non-Null Count   Dtype \n",
      "---  ------      --------------   ----- \n",
      " 0   date        699065 non-null  object\n",
      " 1   kubernetes  699065 non-null  object\n",
      " 2   log         699065 non-null  object\n",
      " 3   stream      699065 non-null  object\n",
      " 4   time        699065 non-null  object\n",
      "dtypes: object(5)\n",
      "memory usage: 26.7+ MB\n"
     ]
    }
   ],
   "source": [
    "df = pd.read_csv(get_object_response['Body'], sep=';')\n",
    "df.info()"
   ]
  },
  {
   "cell_type": "markdown",
   "id": "560168d2",
   "metadata": {},
   "source": [
    "### 3. Preprocessing data"
   ]
  },
  {
   "cell_type": "markdown",
   "id": "6dbcd32c",
   "metadata": {},
   "source": [
    "#### 3.1. Parce the data"
   ]
  },
  {
   "cell_type": "code",
   "execution_count": 24,
   "id": "2d397d69",
   "metadata": {},
   "outputs": [],
   "source": [
    "def row_info(rin):\n",
    "    \"\"\"\n",
    "    Extracts names of:\n",
    "      - docker image\n",
    "      - id of the Jupyter application\n",
    "      - name of the host, where Jupyter runs\n",
    "    \n",
    "    \"\"\"\n",
    "    img = rin[rin.find('container_image='):].split('\\'')[1]\n",
    "    hub = rin[rin.find('pod_name='):].split('\\'')[1]\n",
    "    host = rin[rin.find('host='):].split('\\'')[1]\n",
    "    return img, hub, host"
   ]
  },
  {
   "cell_type": "code",
   "execution_count": 25,
   "id": "bae4c09e",
   "metadata": {},
   "outputs": [],
   "source": [
    "def sq_brackets(sin):\n",
    "    \"\"\"\n",
    "    Split log string amd extracts:\n",
    "      - timestamp of the event\n",
    "      - name of application\n",
    "      - type of logs\n",
    "      - code of event\n",
    "      - description\n",
    "    \n",
    "    \"\"\"\n",
    "    try:\n",
    "        s = sin.split('[', 1)[1].split(']')[0]\n",
    "        msg = sin[len(s) + 2 :].strip()\n",
    "        s = s.split()\n",
    "        head = s[0]\n",
    "        ts = ' '.join(s[1:3])\n",
    "        svc = s[3]\n",
    "        typ = s[4].split(':')[0]\n",
    "        code = s[4].split(':')[1]\n",
    "    except:\n",
    "        head, ts, svc, typ, code = '', '', '', '', ''\n",
    "        msg = sin\n",
    "    return head, ts, svc, typ, code, msg"
   ]
  },
  {
   "cell_type": "code",
   "execution_count": 26,
   "id": "83336f29",
   "metadata": {},
   "outputs": [
    {
     "data": {
      "text/html": [
       "<div>\n",
       "<style scoped>\n",
       "    .dataframe tbody tr th:only-of-type {\n",
       "        vertical-align: middle;\n",
       "    }\n",
       "\n",
       "    .dataframe tbody tr th {\n",
       "        vertical-align: top;\n",
       "    }\n",
       "\n",
       "    .dataframe thead th {\n",
       "        text-align: right;\n",
       "    }\n",
       "</style>\n",
       "<table border=\"1\" class=\"dataframe\">\n",
       "  <thead>\n",
       "    <tr style=\"text-align: right;\">\n",
       "      <th></th>\n",
       "      <th>date</th>\n",
       "      <th>kubernetes</th>\n",
       "      <th>log</th>\n",
       "      <th>stream</th>\n",
       "      <th>time</th>\n",
       "      <th>img</th>\n",
       "      <th>hub</th>\n",
       "      <th>host</th>\n",
       "    </tr>\n",
       "  </thead>\n",
       "  <tbody>\n",
       "    <tr>\n",
       "      <th>0</th>\n",
       "      <td>2022-12-09T04:50:48.335844Z</td>\n",
       "      <td>Row(annotations=Row(checksum/config-map='ce892...</td>\n",
       "      <td>[I 2022-12-09 04:50:48.335 JupyterHub log:181]...</td>\n",
       "      <td>stderr</td>\n",
       "      <td>2022-12-09T04:50:48.33584421Z</td>\n",
       "      <td>jupyterhub/k8s-hub:0.11.1</td>\n",
       "      <td>hub-5c66c6c96f-p5xcc</td>\n",
       "      <td>cl1flrrk4hvdbm084md4-ahoc</td>\n",
       "    </tr>\n",
       "    <tr>\n",
       "      <th>1</th>\n",
       "      <td>2022-12-09T04:50:48.359937Z</td>\n",
       "      <td>Row(annotations=Row(checksum/config-map='ce892...</td>\n",
       "      <td>[W 2022-12-09 04:50:48.359 JupyterHub log:181]...</td>\n",
       "      <td>stderr</td>\n",
       "      <td>2022-12-09T04:50:48.359937031Z</td>\n",
       "      <td>jupyterhub/k8s-hub:0.11.1</td>\n",
       "      <td>hub-5c66c6c96f-p5xcc</td>\n",
       "      <td>cl1flrrk4hvdbm084md4-ahoc</td>\n",
       "    </tr>\n",
       "    <tr>\n",
       "      <th>2</th>\n",
       "      <td>2022-12-09T04:50:55.940651Z</td>\n",
       "      <td>Row(annotations=Row(checksum/config-map='ce892...</td>\n",
       "      <td>[I 2022-12-09 04:50:55.940 JupyterHub log:181]...</td>\n",
       "      <td>stderr</td>\n",
       "      <td>2022-12-09T04:50:55.940651688Z</td>\n",
       "      <td>jupyterhub/k8s-hub:0.11.1</td>\n",
       "      <td>hub-5c66c6c96f-p5xcc</td>\n",
       "      <td>cl1flrrk4hvdbm084md4-ahoc</td>\n",
       "    </tr>\n",
       "    <tr>\n",
       "      <th>3</th>\n",
       "      <td>2022-12-09T04:50:55.968410Z</td>\n",
       "      <td>Row(annotations=Row(checksum/config-map='ce892...</td>\n",
       "      <td>[W 2022-12-09 04:50:55.968 JupyterHub log:181]...</td>\n",
       "      <td>stderr</td>\n",
       "      <td>2022-12-09T04:50:55.968410334Z</td>\n",
       "      <td>jupyterhub/k8s-hub:0.11.1</td>\n",
       "      <td>hub-5c66c6c96f-p5xcc</td>\n",
       "      <td>cl1flrrk4hvdbm084md4-ahoc</td>\n",
       "    </tr>\n",
       "    <tr>\n",
       "      <th>4</th>\n",
       "      <td>2022-12-09T04:50:51.758320Z</td>\n",
       "      <td>Row(annotations=Row(checksum/config-map='ce892...</td>\n",
       "      <td>[I 2022-12-09 04:50:51.758 JupyterHub log:181]...</td>\n",
       "      <td>stderr</td>\n",
       "      <td>2022-12-09T04:50:51.758320284Z</td>\n",
       "      <td>jupyterhub/k8s-hub:0.11.1</td>\n",
       "      <td>hub-5c66c6c96f-p5xcc</td>\n",
       "      <td>cl1flrrk4hvdbm084md4-ahoc</td>\n",
       "    </tr>\n",
       "  </tbody>\n",
       "</table>\n",
       "</div>"
      ],
      "text/plain": [
       "                          date  \\\n",
       "0  2022-12-09T04:50:48.335844Z   \n",
       "1  2022-12-09T04:50:48.359937Z   \n",
       "2  2022-12-09T04:50:55.940651Z   \n",
       "3  2022-12-09T04:50:55.968410Z   \n",
       "4  2022-12-09T04:50:51.758320Z   \n",
       "\n",
       "                                          kubernetes  \\\n",
       "0  Row(annotations=Row(checksum/config-map='ce892...   \n",
       "1  Row(annotations=Row(checksum/config-map='ce892...   \n",
       "2  Row(annotations=Row(checksum/config-map='ce892...   \n",
       "3  Row(annotations=Row(checksum/config-map='ce892...   \n",
       "4  Row(annotations=Row(checksum/config-map='ce892...   \n",
       "\n",
       "                                                 log  stream  \\\n",
       "0  [I 2022-12-09 04:50:48.335 JupyterHub log:181]...  stderr   \n",
       "1  [W 2022-12-09 04:50:48.359 JupyterHub log:181]...  stderr   \n",
       "2  [I 2022-12-09 04:50:55.940 JupyterHub log:181]...  stderr   \n",
       "3  [W 2022-12-09 04:50:55.968 JupyterHub log:181]...  stderr   \n",
       "4  [I 2022-12-09 04:50:51.758 JupyterHub log:181]...  stderr   \n",
       "\n",
       "                             time                        img  \\\n",
       "0   2022-12-09T04:50:48.33584421Z  jupyterhub/k8s-hub:0.11.1   \n",
       "1  2022-12-09T04:50:48.359937031Z  jupyterhub/k8s-hub:0.11.1   \n",
       "2  2022-12-09T04:50:55.940651688Z  jupyterhub/k8s-hub:0.11.1   \n",
       "3  2022-12-09T04:50:55.968410334Z  jupyterhub/k8s-hub:0.11.1   \n",
       "4  2022-12-09T04:50:51.758320284Z  jupyterhub/k8s-hub:0.11.1   \n",
       "\n",
       "                    hub                       host  \n",
       "0  hub-5c66c6c96f-p5xcc  cl1flrrk4hvdbm084md4-ahoc  \n",
       "1  hub-5c66c6c96f-p5xcc  cl1flrrk4hvdbm084md4-ahoc  \n",
       "2  hub-5c66c6c96f-p5xcc  cl1flrrk4hvdbm084md4-ahoc  \n",
       "3  hub-5c66c6c96f-p5xcc  cl1flrrk4hvdbm084md4-ahoc  \n",
       "4  hub-5c66c6c96f-p5xcc  cl1flrrk4hvdbm084md4-ahoc  "
      ]
     },
     "execution_count": 26,
     "metadata": {},
     "output_type": "execute_result"
    }
   ],
   "source": [
    "df['img'], df['hub'], df['host'] = zip(*df['kubernetes'].map(row_info))\n",
    "df.head()"
   ]
  },
  {
   "cell_type": "code",
   "execution_count": 27,
   "id": "1385aace",
   "metadata": {},
   "outputs": [
    {
     "data": {
      "text/html": [
       "<div>\n",
       "<style scoped>\n",
       "    .dataframe tbody tr th:only-of-type {\n",
       "        vertical-align: middle;\n",
       "    }\n",
       "\n",
       "    .dataframe tbody tr th {\n",
       "        vertical-align: top;\n",
       "    }\n",
       "\n",
       "    .dataframe thead th {\n",
       "        text-align: right;\n",
       "    }\n",
       "</style>\n",
       "<table border=\"1\" class=\"dataframe\">\n",
       "  <thead>\n",
       "    <tr style=\"text-align: right;\">\n",
       "      <th></th>\n",
       "      <th>date</th>\n",
       "      <th>kubernetes</th>\n",
       "      <th>log</th>\n",
       "      <th>stream</th>\n",
       "      <th>time</th>\n",
       "      <th>img</th>\n",
       "      <th>hub</th>\n",
       "      <th>host</th>\n",
       "      <th>head</th>\n",
       "      <th>timestamp</th>\n",
       "      <th>service</th>\n",
       "      <th>event_type</th>\n",
       "      <th>event_code</th>\n",
       "      <th>message</th>\n",
       "    </tr>\n",
       "  </thead>\n",
       "  <tbody>\n",
       "    <tr>\n",
       "      <th>0</th>\n",
       "      <td>2022-12-09T04:50:48.335844Z</td>\n",
       "      <td>Row(annotations=Row(checksum/config-map='ce892...</td>\n",
       "      <td>[I 2022-12-09 04:50:48.335 JupyterHub log:181]...</td>\n",
       "      <td>stderr</td>\n",
       "      <td>2022-12-09T04:50:48.33584421Z</td>\n",
       "      <td>jupyterhub/k8s-hub:0.11.1</td>\n",
       "      <td>hub-5c66c6c96f-p5xcc</td>\n",
       "      <td>cl1flrrk4hvdbm084md4-ahoc</td>\n",
       "      <td>I</td>\n",
       "      <td>2022-12-09 04:50:48.335</td>\n",
       "      <td>JupyterHub</td>\n",
       "      <td>log</td>\n",
       "      <td>181</td>\n",
       "      <td>302 GET /utilities/login/index.php -&gt; /hub/uti...</td>\n",
       "    </tr>\n",
       "    <tr>\n",
       "      <th>1</th>\n",
       "      <td>2022-12-09T04:50:48.359937Z</td>\n",
       "      <td>Row(annotations=Row(checksum/config-map='ce892...</td>\n",
       "      <td>[W 2022-12-09 04:50:48.359 JupyterHub log:181]...</td>\n",
       "      <td>stderr</td>\n",
       "      <td>2022-12-09T04:50:48.359937031Z</td>\n",
       "      <td>jupyterhub/k8s-hub:0.11.1</td>\n",
       "      <td>hub-5c66c6c96f-p5xcc</td>\n",
       "      <td>cl1flrrk4hvdbm084md4-ahoc</td>\n",
       "      <td>W</td>\n",
       "      <td>2022-12-09 04:50:48.359</td>\n",
       "      <td>JupyterHub</td>\n",
       "      <td>log</td>\n",
       "      <td>181</td>\n",
       "      <td>404 GET /hub/utilities/login/index.php (@10.11...</td>\n",
       "    </tr>\n",
       "    <tr>\n",
       "      <th>2</th>\n",
       "      <td>2022-12-09T04:50:55.940651Z</td>\n",
       "      <td>Row(annotations=Row(checksum/config-map='ce892...</td>\n",
       "      <td>[I 2022-12-09 04:50:55.940 JupyterHub log:181]...</td>\n",
       "      <td>stderr</td>\n",
       "      <td>2022-12-09T04:50:55.940651688Z</td>\n",
       "      <td>jupyterhub/k8s-hub:0.11.1</td>\n",
       "      <td>hub-5c66c6c96f-p5xcc</td>\n",
       "      <td>cl1flrrk4hvdbm084md4-ahoc</td>\n",
       "      <td>I</td>\n",
       "      <td>2022-12-09 04:50:55.940</td>\n",
       "      <td>JupyterHub</td>\n",
       "      <td>log</td>\n",
       "      <td>181</td>\n",
       "      <td>302 GET /test-output/ -&gt; /hub/test-output/ (@1...</td>\n",
       "    </tr>\n",
       "    <tr>\n",
       "      <th>3</th>\n",
       "      <td>2022-12-09T04:50:55.968410Z</td>\n",
       "      <td>Row(annotations=Row(checksum/config-map='ce892...</td>\n",
       "      <td>[W 2022-12-09 04:50:55.968 JupyterHub log:181]...</td>\n",
       "      <td>stderr</td>\n",
       "      <td>2022-12-09T04:50:55.968410334Z</td>\n",
       "      <td>jupyterhub/k8s-hub:0.11.1</td>\n",
       "      <td>hub-5c66c6c96f-p5xcc</td>\n",
       "      <td>cl1flrrk4hvdbm084md4-ahoc</td>\n",
       "      <td>W</td>\n",
       "      <td>2022-12-09 04:50:55.968</td>\n",
       "      <td>JupyterHub</td>\n",
       "      <td>log</td>\n",
       "      <td>181</td>\n",
       "      <td>404 GET /hub/test-output/ (@10.112.128.1) 1.19ms</td>\n",
       "    </tr>\n",
       "    <tr>\n",
       "      <th>4</th>\n",
       "      <td>2022-12-09T04:50:51.758320Z</td>\n",
       "      <td>Row(annotations=Row(checksum/config-map='ce892...</td>\n",
       "      <td>[I 2022-12-09 04:50:51.758 JupyterHub log:181]...</td>\n",
       "      <td>stderr</td>\n",
       "      <td>2022-12-09T04:50:51.758320284Z</td>\n",
       "      <td>jupyterhub/k8s-hub:0.11.1</td>\n",
       "      <td>hub-5c66c6c96f-p5xcc</td>\n",
       "      <td>cl1flrrk4hvdbm084md4-ahoc</td>\n",
       "      <td>I</td>\n",
       "      <td>2022-12-09 04:50:51.758</td>\n",
       "      <td>JupyterHub</td>\n",
       "      <td>log</td>\n",
       "      <td>181</td>\n",
       "      <td>302 GET /admin.pl -&gt; /hub/admin.pl (@10.112.12...</td>\n",
       "    </tr>\n",
       "  </tbody>\n",
       "</table>\n",
       "</div>"
      ],
      "text/plain": [
       "                          date  \\\n",
       "0  2022-12-09T04:50:48.335844Z   \n",
       "1  2022-12-09T04:50:48.359937Z   \n",
       "2  2022-12-09T04:50:55.940651Z   \n",
       "3  2022-12-09T04:50:55.968410Z   \n",
       "4  2022-12-09T04:50:51.758320Z   \n",
       "\n",
       "                                          kubernetes  \\\n",
       "0  Row(annotations=Row(checksum/config-map='ce892...   \n",
       "1  Row(annotations=Row(checksum/config-map='ce892...   \n",
       "2  Row(annotations=Row(checksum/config-map='ce892...   \n",
       "3  Row(annotations=Row(checksum/config-map='ce892...   \n",
       "4  Row(annotations=Row(checksum/config-map='ce892...   \n",
       "\n",
       "                                                 log  stream  \\\n",
       "0  [I 2022-12-09 04:50:48.335 JupyterHub log:181]...  stderr   \n",
       "1  [W 2022-12-09 04:50:48.359 JupyterHub log:181]...  stderr   \n",
       "2  [I 2022-12-09 04:50:55.940 JupyterHub log:181]...  stderr   \n",
       "3  [W 2022-12-09 04:50:55.968 JupyterHub log:181]...  stderr   \n",
       "4  [I 2022-12-09 04:50:51.758 JupyterHub log:181]...  stderr   \n",
       "\n",
       "                             time                        img  \\\n",
       "0   2022-12-09T04:50:48.33584421Z  jupyterhub/k8s-hub:0.11.1   \n",
       "1  2022-12-09T04:50:48.359937031Z  jupyterhub/k8s-hub:0.11.1   \n",
       "2  2022-12-09T04:50:55.940651688Z  jupyterhub/k8s-hub:0.11.1   \n",
       "3  2022-12-09T04:50:55.968410334Z  jupyterhub/k8s-hub:0.11.1   \n",
       "4  2022-12-09T04:50:51.758320284Z  jupyterhub/k8s-hub:0.11.1   \n",
       "\n",
       "                    hub                       host head  \\\n",
       "0  hub-5c66c6c96f-p5xcc  cl1flrrk4hvdbm084md4-ahoc    I   \n",
       "1  hub-5c66c6c96f-p5xcc  cl1flrrk4hvdbm084md4-ahoc    W   \n",
       "2  hub-5c66c6c96f-p5xcc  cl1flrrk4hvdbm084md4-ahoc    I   \n",
       "3  hub-5c66c6c96f-p5xcc  cl1flrrk4hvdbm084md4-ahoc    W   \n",
       "4  hub-5c66c6c96f-p5xcc  cl1flrrk4hvdbm084md4-ahoc    I   \n",
       "\n",
       "                 timestamp     service event_type event_code  \\\n",
       "0  2022-12-09 04:50:48.335  JupyterHub        log        181   \n",
       "1  2022-12-09 04:50:48.359  JupyterHub        log        181   \n",
       "2  2022-12-09 04:50:55.940  JupyterHub        log        181   \n",
       "3  2022-12-09 04:50:55.968  JupyterHub        log        181   \n",
       "4  2022-12-09 04:50:51.758  JupyterHub        log        181   \n",
       "\n",
       "                                             message  \n",
       "0  302 GET /utilities/login/index.php -> /hub/uti...  \n",
       "1  404 GET /hub/utilities/login/index.php (@10.11...  \n",
       "2  302 GET /test-output/ -> /hub/test-output/ (@1...  \n",
       "3   404 GET /hub/test-output/ (@10.112.128.1) 1.19ms  \n",
       "4  302 GET /admin.pl -> /hub/admin.pl (@10.112.12...  "
      ]
     },
     "execution_count": 27,
     "metadata": {},
     "output_type": "execute_result"
    }
   ],
   "source": [
    "df['head'], df['timestamp'], df['service'], \\\n",
    "    df['event_type'], df['event_code'], df['message'] \\\n",
    "    = zip(*df['log'].map(sq_brackets))\n",
    "df.head()"
   ]
  },
  {
   "cell_type": "markdown",
   "id": "3cb1dec3",
   "metadata": {},
   "source": [
    "#### 3.2. Parce users' activities"
   ]
  },
  {
   "cell_type": "code",
   "execution_count": 28,
   "id": "9dc047f9",
   "metadata": {},
   "outputs": [],
   "source": [
    "def parce_users_activities(row):\n",
    "    \"\"\"\n",
    "    Ugly function.\n",
    "    \n",
    "    You may use dictionary to make it\n",
    "    more pythonic or something else.\n",
    "    \n",
    "    \"\"\"\n",
    "    code = row['event_code']\n",
    "    msg = row['message']\n",
    "    if code == '43':\n",
    "        user = msg.split()[-1]\n",
    "        log = 'logged out'\n",
    "    elif code == '757':\n",
    "        user = msg.split()[-1]\n",
    "        log = 'logged in'\n",
    "    elif code == '402':\n",
    "        user = msg.split()[0]\n",
    "        log = 'pending spawn'\n",
    "    elif code == '1875':\n",
    "        user = msg.split()[4].replace('claim-', '').replace(',', '')\n",
    "        log = 'attempt to create pvc with timeout'\n",
    "    elif code == '1887':\n",
    "        user = msg.split()[1].replace('claim-', '')\n",
    "        log = 'pvc already exists'\n",
    "    elif code == '1840':\n",
    "        user = msg.split()[4].replace('jupyter-', '').replace(',', '')\n",
    "        log = 'attempting to create pod with timeout'\n",
    "    elif code == '1344':\n",
    "        user = msg.split('/')[3]\n",
    "        log = 'failing suspected api request to not-running server'\n",
    "    elif code == '380':\n",
    "        user = msg.split()[3]\n",
    "        log = 'previous spawn failed'\n",
    "    elif code == '567':\n",
    "        user = msg.split('/')[4]\n",
    "        log = 'stream closed while handling '\n",
    "    elif code == '681':\n",
    "        user = msg.split()[0].replace('\\'s', '')\n",
    "        log = 'server failed to start'\n",
    "    elif code == '1997':\n",
    "        user = msg.split('-')[-1]\n",
    "        log = 'deleting pod'\n",
    "    elif code == '689':\n",
    "        user = msg.split()[3].replace('\\'s', '')\n",
    "        log = 'unhandled error starting with timeout'\n",
    "    elif code == '1961' or code == '2044':\n",
    "        user = msg.split()[1].replace('jupyter-', '')\n",
    "        log = 'restarting pod reflector'\n",
    "    elif code == '257':\n",
    "        user = msg.split()[2]\n",
    "        log = 'adding user to proxy'\n",
    "    elif code == '664':\n",
    "        user = msg.split()[1]\n",
    "        log = 'server is ready'\n",
    "    elif code == '61' or code == '85':\n",
    "        user = msg.split()[3]\n",
    "        log = 'spawning sever with advanced configuration option'\n",
    "    elif code == '1143':\n",
    "        user = msg.split()[1].replace(':', '')\n",
    "        log = 'server is slow to stop'\n",
    "    elif code == '2077':\n",
    "        user = msg.split()[0]\n",
    "        log = 'still running'\n",
    "    elif code == '167':\n",
    "        user = msg.split()[1]\n",
    "        log = 'server is already active'\n",
    "    elif code == '1067' or code == '2022':\n",
    "        user = msg.split()[1]\n",
    "        log = 'user server stopped with exit code 1'\n",
    "    elif code == '1857':\n",
    "        user = msg.split()[3].replace('jupyter-', '').replace(',', '')\n",
    "        log = 'found existing pod and attempting to kill'\n",
    "    elif code == '1861':\n",
    "        user = msg.split()[2].replace('jupyter-', '').replace(',', '')\n",
    "        log = 'killed pod and will try starting singleuser pod again'\n",
    "    elif code == '738':\n",
    "        user = msg.split()[0].replace(',', '').replace('\\'s', '')\n",
    "        log = 'server never showed up and giving up'\n",
    "    elif code == '2069':\n",
    "        user = msg.split()[0].replace(',', '')\n",
    "        log = 'user does not appear to be running and shutting it down'  \n",
    "    elif code == '148':\n",
    "        user = msg.split()[-1]\n",
    "        log = 'user is running'\n",
    "    elif code == '1415':\n",
    "        user = msg.split()[-1]\n",
    "        log = 'admin requesting spawn on behalf'\n",
    "    elif code == '1437':\n",
    "        user = msg.split()[5].replace(',', '')\n",
    "        log = 'user requested server which user do not own'\n",
    "    elif code == '626':\n",
    "        user = msg.split()[1]\n",
    "        log = 'server is already started'\n",
    "    elif code == '2085':\n",
    "        user = msg.split()[0]\n",
    "        log = 'server appears to have stopped while the hub was down'\n",
    "    else:\n",
    "        user, log = '', ''\n",
    "    return user, log"
   ]
  },
  {
   "cell_type": "code",
   "execution_count": 29,
   "id": "98b6dcb6",
   "metadata": {},
   "outputs": [
    {
     "data": {
      "text/html": [
       "<div>\n",
       "<style scoped>\n",
       "    .dataframe tbody tr th:only-of-type {\n",
       "        vertical-align: middle;\n",
       "    }\n",
       "\n",
       "    .dataframe tbody tr th {\n",
       "        vertical-align: top;\n",
       "    }\n",
       "\n",
       "    .dataframe thead th {\n",
       "        text-align: right;\n",
       "    }\n",
       "</style>\n",
       "<table border=\"1\" class=\"dataframe\">\n",
       "  <thead>\n",
       "    <tr style=\"text-align: right;\">\n",
       "      <th></th>\n",
       "      <th>date</th>\n",
       "      <th>kubernetes</th>\n",
       "      <th>log</th>\n",
       "      <th>stream</th>\n",
       "      <th>time</th>\n",
       "      <th>img</th>\n",
       "      <th>hub</th>\n",
       "      <th>host</th>\n",
       "      <th>head</th>\n",
       "      <th>timestamp</th>\n",
       "      <th>service</th>\n",
       "      <th>event_type</th>\n",
       "      <th>event_code</th>\n",
       "      <th>message</th>\n",
       "      <th>user</th>\n",
       "    </tr>\n",
       "  </thead>\n",
       "  <tbody>\n",
       "    <tr>\n",
       "      <th>0</th>\n",
       "      <td>2022-12-09T04:50:48.335844Z</td>\n",
       "      <td>Row(annotations=Row(checksum/config-map='ce892...</td>\n",
       "      <td></td>\n",
       "      <td>stderr</td>\n",
       "      <td>2022-12-09T04:50:48.33584421Z</td>\n",
       "      <td>jupyterhub/k8s-hub:0.11.1</td>\n",
       "      <td>hub-5c66c6c96f-p5xcc</td>\n",
       "      <td>cl1flrrk4hvdbm084md4-ahoc</td>\n",
       "      <td>I</td>\n",
       "      <td>2022-12-09 04:50:48.335</td>\n",
       "      <td>JupyterHub</td>\n",
       "      <td>log</td>\n",
       "      <td>181</td>\n",
       "      <td>302 GET /utilities/login/index.php -&gt; /hub/uti...</td>\n",
       "      <td></td>\n",
       "    </tr>\n",
       "    <tr>\n",
       "      <th>1</th>\n",
       "      <td>2022-12-09T04:50:48.359937Z</td>\n",
       "      <td>Row(annotations=Row(checksum/config-map='ce892...</td>\n",
       "      <td></td>\n",
       "      <td>stderr</td>\n",
       "      <td>2022-12-09T04:50:48.359937031Z</td>\n",
       "      <td>jupyterhub/k8s-hub:0.11.1</td>\n",
       "      <td>hub-5c66c6c96f-p5xcc</td>\n",
       "      <td>cl1flrrk4hvdbm084md4-ahoc</td>\n",
       "      <td>W</td>\n",
       "      <td>2022-12-09 04:50:48.359</td>\n",
       "      <td>JupyterHub</td>\n",
       "      <td>log</td>\n",
       "      <td>181</td>\n",
       "      <td>404 GET /hub/utilities/login/index.php (@10.11...</td>\n",
       "      <td></td>\n",
       "    </tr>\n",
       "    <tr>\n",
       "      <th>2</th>\n",
       "      <td>2022-12-09T04:50:55.940651Z</td>\n",
       "      <td>Row(annotations=Row(checksum/config-map='ce892...</td>\n",
       "      <td></td>\n",
       "      <td>stderr</td>\n",
       "      <td>2022-12-09T04:50:55.940651688Z</td>\n",
       "      <td>jupyterhub/k8s-hub:0.11.1</td>\n",
       "      <td>hub-5c66c6c96f-p5xcc</td>\n",
       "      <td>cl1flrrk4hvdbm084md4-ahoc</td>\n",
       "      <td>I</td>\n",
       "      <td>2022-12-09 04:50:55.940</td>\n",
       "      <td>JupyterHub</td>\n",
       "      <td>log</td>\n",
       "      <td>181</td>\n",
       "      <td>302 GET /test-output/ -&gt; /hub/test-output/ (@1...</td>\n",
       "      <td></td>\n",
       "    </tr>\n",
       "    <tr>\n",
       "      <th>3</th>\n",
       "      <td>2022-12-09T04:50:55.968410Z</td>\n",
       "      <td>Row(annotations=Row(checksum/config-map='ce892...</td>\n",
       "      <td></td>\n",
       "      <td>stderr</td>\n",
       "      <td>2022-12-09T04:50:55.968410334Z</td>\n",
       "      <td>jupyterhub/k8s-hub:0.11.1</td>\n",
       "      <td>hub-5c66c6c96f-p5xcc</td>\n",
       "      <td>cl1flrrk4hvdbm084md4-ahoc</td>\n",
       "      <td>W</td>\n",
       "      <td>2022-12-09 04:50:55.968</td>\n",
       "      <td>JupyterHub</td>\n",
       "      <td>log</td>\n",
       "      <td>181</td>\n",
       "      <td>404 GET /hub/test-output/ (@10.112.128.1) 1.19ms</td>\n",
       "      <td></td>\n",
       "    </tr>\n",
       "    <tr>\n",
       "      <th>4</th>\n",
       "      <td>2022-12-09T04:50:51.758320Z</td>\n",
       "      <td>Row(annotations=Row(checksum/config-map='ce892...</td>\n",
       "      <td></td>\n",
       "      <td>stderr</td>\n",
       "      <td>2022-12-09T04:50:51.758320284Z</td>\n",
       "      <td>jupyterhub/k8s-hub:0.11.1</td>\n",
       "      <td>hub-5c66c6c96f-p5xcc</td>\n",
       "      <td>cl1flrrk4hvdbm084md4-ahoc</td>\n",
       "      <td>I</td>\n",
       "      <td>2022-12-09 04:50:51.758</td>\n",
       "      <td>JupyterHub</td>\n",
       "      <td>log</td>\n",
       "      <td>181</td>\n",
       "      <td>302 GET /admin.pl -&gt; /hub/admin.pl (@10.112.12...</td>\n",
       "      <td></td>\n",
       "    </tr>\n",
       "  </tbody>\n",
       "</table>\n",
       "</div>"
      ],
      "text/plain": [
       "                          date  \\\n",
       "0  2022-12-09T04:50:48.335844Z   \n",
       "1  2022-12-09T04:50:48.359937Z   \n",
       "2  2022-12-09T04:50:55.940651Z   \n",
       "3  2022-12-09T04:50:55.968410Z   \n",
       "4  2022-12-09T04:50:51.758320Z   \n",
       "\n",
       "                                          kubernetes log  stream  \\\n",
       "0  Row(annotations=Row(checksum/config-map='ce892...      stderr   \n",
       "1  Row(annotations=Row(checksum/config-map='ce892...      stderr   \n",
       "2  Row(annotations=Row(checksum/config-map='ce892...      stderr   \n",
       "3  Row(annotations=Row(checksum/config-map='ce892...      stderr   \n",
       "4  Row(annotations=Row(checksum/config-map='ce892...      stderr   \n",
       "\n",
       "                             time                        img  \\\n",
       "0   2022-12-09T04:50:48.33584421Z  jupyterhub/k8s-hub:0.11.1   \n",
       "1  2022-12-09T04:50:48.359937031Z  jupyterhub/k8s-hub:0.11.1   \n",
       "2  2022-12-09T04:50:55.940651688Z  jupyterhub/k8s-hub:0.11.1   \n",
       "3  2022-12-09T04:50:55.968410334Z  jupyterhub/k8s-hub:0.11.1   \n",
       "4  2022-12-09T04:50:51.758320284Z  jupyterhub/k8s-hub:0.11.1   \n",
       "\n",
       "                    hub                       host head  \\\n",
       "0  hub-5c66c6c96f-p5xcc  cl1flrrk4hvdbm084md4-ahoc    I   \n",
       "1  hub-5c66c6c96f-p5xcc  cl1flrrk4hvdbm084md4-ahoc    W   \n",
       "2  hub-5c66c6c96f-p5xcc  cl1flrrk4hvdbm084md4-ahoc    I   \n",
       "3  hub-5c66c6c96f-p5xcc  cl1flrrk4hvdbm084md4-ahoc    W   \n",
       "4  hub-5c66c6c96f-p5xcc  cl1flrrk4hvdbm084md4-ahoc    I   \n",
       "\n",
       "                 timestamp     service event_type event_code  \\\n",
       "0  2022-12-09 04:50:48.335  JupyterHub        log        181   \n",
       "1  2022-12-09 04:50:48.359  JupyterHub        log        181   \n",
       "2  2022-12-09 04:50:55.940  JupyterHub        log        181   \n",
       "3  2022-12-09 04:50:55.968  JupyterHub        log        181   \n",
       "4  2022-12-09 04:50:51.758  JupyterHub        log        181   \n",
       "\n",
       "                                             message user  \n",
       "0  302 GET /utilities/login/index.php -> /hub/uti...       \n",
       "1  404 GET /hub/utilities/login/index.php (@10.11...       \n",
       "2  302 GET /test-output/ -> /hub/test-output/ (@1...       \n",
       "3   404 GET /hub/test-output/ (@10.112.128.1) 1.19ms       \n",
       "4  302 GET /admin.pl -> /hub/admin.pl (@10.112.12...       "
      ]
     },
     "execution_count": 29,
     "metadata": {},
     "output_type": "execute_result"
    }
   ],
   "source": [
    "df['user'], df['log'] = zip(*df.apply(parce_users_activities, axis=1))\n",
    "df.head()"
   ]
  },
  {
   "cell_type": "code",
   "execution_count": 30,
   "id": "be7844f8",
   "metadata": {},
   "outputs": [
    {
     "data": {
      "text/html": [
       "<div>\n",
       "<style scoped>\n",
       "    .dataframe tbody tr th:only-of-type {\n",
       "        vertical-align: middle;\n",
       "    }\n",
       "\n",
       "    .dataframe tbody tr th {\n",
       "        vertical-align: top;\n",
       "    }\n",
       "\n",
       "    .dataframe thead th {\n",
       "        text-align: right;\n",
       "    }\n",
       "</style>\n",
       "<table border=\"1\" class=\"dataframe\">\n",
       "  <thead>\n",
       "    <tr style=\"text-align: right;\">\n",
       "      <th></th>\n",
       "      <th>timestamp</th>\n",
       "      <th>hub</th>\n",
       "      <th>img</th>\n",
       "      <th>host</th>\n",
       "      <th>event_code</th>\n",
       "      <th>event_type</th>\n",
       "      <th>log</th>\n",
       "      <th>user</th>\n",
       "    </tr>\n",
       "  </thead>\n",
       "  <tbody>\n",
       "    <tr>\n",
       "      <th>0</th>\n",
       "      <td>2023-02-13 09:30:12.727</td>\n",
       "      <td>hub-57c88d997b-xh654</td>\n",
       "      <td>jupyterhub/k8s-hub:0.11.1</td>\n",
       "      <td>cl1flrrk4hvdbm084md4-elef</td>\n",
       "      <td>257</td>\n",
       "      <td>proxy</td>\n",
       "      <td>adding user to proxy</td>\n",
       "      <td>st107874</td>\n",
       "    </tr>\n",
       "    <tr>\n",
       "      <th>1</th>\n",
       "      <td>2023-02-13 09:30:12.729</td>\n",
       "      <td>hub-57c88d997b-xh654</td>\n",
       "      <td>jupyterhub/k8s-hub:0.11.1</td>\n",
       "      <td>cl1flrrk4hvdbm084md4-elef</td>\n",
       "      <td>664</td>\n",
       "      <td>users</td>\n",
       "      <td>server is ready</td>\n",
       "      <td>st107874</td>\n",
       "    </tr>\n",
       "    <tr>\n",
       "      <th>2</th>\n",
       "      <td>2023-02-13 09:30:12.730</td>\n",
       "      <td>hub-57c88d997b-xh654</td>\n",
       "      <td>jupyterhub/k8s-hub:0.11.1</td>\n",
       "      <td>cl1flrrk4hvdbm084md4-elef</td>\n",
       "      <td>664</td>\n",
       "      <td>users</td>\n",
       "      <td>server is ready</td>\n",
       "      <td>st107874</td>\n",
       "    </tr>\n",
       "    <tr>\n",
       "      <th>3</th>\n",
       "      <td>2023-02-13 09:30:13.534</td>\n",
       "      <td>hub-57c88d997b-xh654</td>\n",
       "      <td>jupyterhub/k8s-hub:0.11.1</td>\n",
       "      <td>cl1flrrk4hvdbm084md4-elef</td>\n",
       "      <td>257</td>\n",
       "      <td>proxy</td>\n",
       "      <td>adding user to proxy</td>\n",
       "      <td>st112224</td>\n",
       "    </tr>\n",
       "    <tr>\n",
       "      <th>4</th>\n",
       "      <td>2023-02-13 09:30:13.536</td>\n",
       "      <td>hub-57c88d997b-xh654</td>\n",
       "      <td>jupyterhub/k8s-hub:0.11.1</td>\n",
       "      <td>cl1flrrk4hvdbm084md4-elef</td>\n",
       "      <td>664</td>\n",
       "      <td>users</td>\n",
       "      <td>server is ready</td>\n",
       "      <td>st112224</td>\n",
       "    </tr>\n",
       "  </tbody>\n",
       "</table>\n",
       "</div>"
      ],
      "text/plain": [
       "                 timestamp                   hub                        img  \\\n",
       "0  2023-02-13 09:30:12.727  hub-57c88d997b-xh654  jupyterhub/k8s-hub:0.11.1   \n",
       "1  2023-02-13 09:30:12.729  hub-57c88d997b-xh654  jupyterhub/k8s-hub:0.11.1   \n",
       "2  2023-02-13 09:30:12.730  hub-57c88d997b-xh654  jupyterhub/k8s-hub:0.11.1   \n",
       "3  2023-02-13 09:30:13.534  hub-57c88d997b-xh654  jupyterhub/k8s-hub:0.11.1   \n",
       "4  2023-02-13 09:30:13.536  hub-57c88d997b-xh654  jupyterhub/k8s-hub:0.11.1   \n",
       "\n",
       "                        host event_code event_type                   log  \\\n",
       "0  cl1flrrk4hvdbm084md4-elef        257      proxy  adding user to proxy   \n",
       "1  cl1flrrk4hvdbm084md4-elef        664      users       server is ready   \n",
       "2  cl1flrrk4hvdbm084md4-elef        664      users       server is ready   \n",
       "3  cl1flrrk4hvdbm084md4-elef        257      proxy  adding user to proxy   \n",
       "4  cl1flrrk4hvdbm084md4-elef        664      users       server is ready   \n",
       "\n",
       "       user  \n",
       "0  st107874  \n",
       "1  st107874  \n",
       "2  st107874  \n",
       "3  st112224  \n",
       "4  st112224  "
      ]
     },
     "execution_count": 30,
     "metadata": {},
     "output_type": "execute_result"
    }
   ],
   "source": [
    "df = df.loc[df.user != '', [\n",
    "    'timestamp',\n",
    "    'hub',\n",
    "    'img',\n",
    "    'host',\n",
    "    'event_code',\n",
    "    'event_type',\n",
    "    'log',\n",
    "    'user'\n",
    "]].reset_index(drop=True)\n",
    "\n",
    "df.head()"
   ]
  },
  {
   "cell_type": "markdown",
   "id": "4232b305",
   "metadata": {},
   "source": [
    "### 4. Normalize data"
   ]
  },
  {
   "cell_type": "markdown",
   "id": "6fb27d21",
   "metadata": {},
   "source": [
    "#### 4.1. Users table"
   ]
  },
  {
   "cell_type": "code",
   "execution_count": 31,
   "id": "24aa16c2",
   "metadata": {},
   "outputs": [
    {
     "name": "stdout",
     "output_type": "stream",
     "text": [
      "165\n"
     ]
    }
   ],
   "source": [
    "logins = df.user.unique()\n",
    "print(len(logins))"
   ]
  },
  {
   "cell_type": "code",
   "execution_count": 32,
   "id": "d89d3aca",
   "metadata": {},
   "outputs": [],
   "source": [
    "users = []\n",
    "for login in logins:\n",
    "    user = {}\n",
    "    user['login'] = login\n",
    "    user['name'] = names.get_full_name()\n",
    "    user['email'] = login + '@gsom.spbu.ru'\n",
    "    users.append(user)"
   ]
  },
  {
   "cell_type": "code",
   "execution_count": 33,
   "id": "0ab1a3a5",
   "metadata": {},
   "outputs": [
    {
     "data": {
      "text/html": [
       "<div>\n",
       "<style scoped>\n",
       "    .dataframe tbody tr th:only-of-type {\n",
       "        vertical-align: middle;\n",
       "    }\n",
       "\n",
       "    .dataframe tbody tr th {\n",
       "        vertical-align: top;\n",
       "    }\n",
       "\n",
       "    .dataframe thead th {\n",
       "        text-align: right;\n",
       "    }\n",
       "</style>\n",
       "<table border=\"1\" class=\"dataframe\">\n",
       "  <thead>\n",
       "    <tr style=\"text-align: right;\">\n",
       "      <th></th>\n",
       "      <th>login</th>\n",
       "      <th>name</th>\n",
       "      <th>email</th>\n",
       "    </tr>\n",
       "  </thead>\n",
       "  <tbody>\n",
       "    <tr>\n",
       "      <th>0</th>\n",
       "      <td>st107874</td>\n",
       "      <td>Brandon Kuhns</td>\n",
       "      <td>st107874@gsom.spbu.ru</td>\n",
       "    </tr>\n",
       "    <tr>\n",
       "      <th>1</th>\n",
       "      <td>st112224</td>\n",
       "      <td>Peter Thornhill</td>\n",
       "      <td>st112224@gsom.spbu.ru</td>\n",
       "    </tr>\n",
       "    <tr>\n",
       "      <th>2</th>\n",
       "      <td>st112364</td>\n",
       "      <td>Steve Kicker</td>\n",
       "      <td>st112364@gsom.spbu.ru</td>\n",
       "    </tr>\n",
       "    <tr>\n",
       "      <th>3</th>\n",
       "      <td>st107860</td>\n",
       "      <td>Alexandria Culhane</td>\n",
       "      <td>st107860@gsom.spbu.ru</td>\n",
       "    </tr>\n",
       "    <tr>\n",
       "      <th>4</th>\n",
       "      <td>st105940</td>\n",
       "      <td>Milton Lekan</td>\n",
       "      <td>st105940@gsom.spbu.ru</td>\n",
       "    </tr>\n",
       "  </tbody>\n",
       "</table>\n",
       "</div>"
      ],
      "text/plain": [
       "      login                name                  email\n",
       "0  st107874       Brandon Kuhns  st107874@gsom.spbu.ru\n",
       "1  st112224     Peter Thornhill  st112224@gsom.spbu.ru\n",
       "2  st112364        Steve Kicker  st112364@gsom.spbu.ru\n",
       "3  st107860  Alexandria Culhane  st107860@gsom.spbu.ru\n",
       "4  st105940        Milton Lekan  st105940@gsom.spbu.ru"
      ]
     },
     "execution_count": 33,
     "metadata": {},
     "output_type": "execute_result"
    }
   ],
   "source": [
    "df_users = pd.DataFrame(users)\n",
    "df_users.head()"
   ]
  },
  {
   "cell_type": "code",
   "execution_count": 34,
   "id": "970a0918",
   "metadata": {},
   "outputs": [],
   "source": [
    "client = clickhouse_connect.get_client(\n",
    "    host=access_ch['host'], \n",
    "    username=access_ch['user'], \n",
    "    password=access_ch['password'],\n",
    "    port=access_ch['port'],\n",
    "    verify=f'{access_ch[\"sslrootcert\"]}',\n",
    "    #verify=f'/home/jovyan/ibdt_course_miba_23/topics_labs/{access_ch[\"sslrootcert\"]}'\n",
    ")"
   ]
  },
  {
   "cell_type": "code",
   "execution_count": 35,
   "id": "a1f10a7b",
   "metadata": {},
   "outputs": [
    {
     "data": {
      "text/plain": [
       "[['']]"
      ]
     },
     "execution_count": 35,
     "metadata": {},
     "output_type": "execute_result"
    }
   ],
   "source": [
    "result = client.query('DROP TABLE IF EXISTS db1.users')\n",
    "query = '''\n",
    "CREATE TABLE IF NOT EXISTS db1.users\n",
    "(\n",
    "    email String,\n",
    "    login String,\n",
    "    name String\n",
    ") ENGINE = MergeTree\n",
    "ORDER BY email;\n",
    "'''\n",
    "result = client.query(query)\n",
    "result.result_rows"
   ]
  },
  {
   "cell_type": "code",
   "execution_count": 36,
   "id": "080ec362",
   "metadata": {},
   "outputs": [],
   "source": [
    "client.insert_df(\n",
    "    'db1.users',\n",
    "    df_users\n",
    ")"
   ]
  },
  {
   "cell_type": "code",
   "execution_count": 37,
   "id": "cfc846cc",
   "metadata": {},
   "outputs": [
    {
     "data": {
      "text/plain": [
       "[('aasoloviev@gsom.spbu.ru', 'aasoloviev', 'Lenny Artrip'),\n",
       " ('ab2216206@gsom.spbu.ru', 'ab2216206', 'Guy Shaw'),\n",
       " ('ab2219090@gsom.spbu.ru', 'ab2219090', 'Robert Gomez'),\n",
       " ('abulatov@gsom.spbu.ru', 'abulatov', 'Susan Richard'),\n",
       " ('albulatov@gsom.spbu.ru', 'albulatov', 'Laura Mickolick')]"
      ]
     },
     "execution_count": 37,
     "metadata": {},
     "output_type": "execute_result"
    }
   ],
   "source": [
    "result = client.query(\n",
    "    \"SELECT * FROM db1.users LIMIT 5\"\n",
    ")\n",
    "result.result_rows"
   ]
  },
  {
   "cell_type": "markdown",
   "id": "bf114823",
   "metadata": {},
   "source": [
    "#### 4.2. JupyterHub instances table"
   ]
  },
  {
   "cell_type": "code",
   "execution_count": 38,
   "id": "05afd65e",
   "metadata": {},
   "outputs": [],
   "source": [
    "df_instances = df[[\n",
    "    'hub',\n",
    "    'img',\n",
    "    'host'\n",
    "]].reset_index(drop=True)"
   ]
  },
  {
   "cell_type": "code",
   "execution_count": 39,
   "id": "3841745a",
   "metadata": {},
   "outputs": [
    {
     "data": {
      "text/html": [
       "<div>\n",
       "<style scoped>\n",
       "    .dataframe tbody tr th:only-of-type {\n",
       "        vertical-align: middle;\n",
       "    }\n",
       "\n",
       "    .dataframe tbody tr th {\n",
       "        vertical-align: top;\n",
       "    }\n",
       "\n",
       "    .dataframe thead th {\n",
       "        text-align: right;\n",
       "    }\n",
       "</style>\n",
       "<table border=\"1\" class=\"dataframe\">\n",
       "  <thead>\n",
       "    <tr style=\"text-align: right;\">\n",
       "      <th></th>\n",
       "      <th>hub</th>\n",
       "      <th>img</th>\n",
       "      <th>host</th>\n",
       "    </tr>\n",
       "  </thead>\n",
       "  <tbody>\n",
       "    <tr>\n",
       "      <th>0</th>\n",
       "      <td>hub-57c88d997b-xh654</td>\n",
       "      <td>jupyterhub/k8s-hub:0.11.1</td>\n",
       "      <td>cl1flrrk4hvdbm084md4-elef</td>\n",
       "    </tr>\n",
       "    <tr>\n",
       "      <th>1</th>\n",
       "      <td>hub-5bb9b9c56c-s958d</td>\n",
       "      <td>jupyterhub/k8s-hub:0.11.1</td>\n",
       "      <td>cl1flrrk4hvdbm084md4-ahoc</td>\n",
       "    </tr>\n",
       "    <tr>\n",
       "      <th>2</th>\n",
       "      <td>hub-d9c54fff9-tzxn2</td>\n",
       "      <td>jupyterhub/k8s-hub:0.11.1</td>\n",
       "      <td>cl1flrrk4hvdbm084md4-eqix</td>\n",
       "    </tr>\n",
       "    <tr>\n",
       "      <th>3</th>\n",
       "      <td>hub-5bb9b9c56c-5k7nq</td>\n",
       "      <td>jupyterhub/k8s-hub:0.11.1</td>\n",
       "      <td>cl1flrrk4hvdbm084md4-akec</td>\n",
       "    </tr>\n",
       "    <tr>\n",
       "      <th>4</th>\n",
       "      <td>hub-864f997456-fxk67</td>\n",
       "      <td>jupyterhub/k8s-hub:0.11.1</td>\n",
       "      <td>cl1flrrk4hvdbm084md4-eqix</td>\n",
       "    </tr>\n",
       "  </tbody>\n",
       "</table>\n",
       "</div>"
      ],
      "text/plain": [
       "                    hub                        img                       host\n",
       "0  hub-57c88d997b-xh654  jupyterhub/k8s-hub:0.11.1  cl1flrrk4hvdbm084md4-elef\n",
       "1  hub-5bb9b9c56c-s958d  jupyterhub/k8s-hub:0.11.1  cl1flrrk4hvdbm084md4-ahoc\n",
       "2   hub-d9c54fff9-tzxn2  jupyterhub/k8s-hub:0.11.1  cl1flrrk4hvdbm084md4-eqix\n",
       "3  hub-5bb9b9c56c-5k7nq  jupyterhub/k8s-hub:0.11.1  cl1flrrk4hvdbm084md4-akec\n",
       "4  hub-864f997456-fxk67  jupyterhub/k8s-hub:0.11.1  cl1flrrk4hvdbm084md4-eqix"
      ]
     },
     "execution_count": 39,
     "metadata": {},
     "output_type": "execute_result"
    }
   ],
   "source": [
    "df_instances.drop_duplicates(inplace=True)\n",
    "df_instances.reset_index(drop=True, inplace=True)\n",
    "df_instances.head()"
   ]
  },
  {
   "cell_type": "code",
   "execution_count": 40,
   "id": "d35665a3",
   "metadata": {},
   "outputs": [
    {
     "data": {
      "text/plain": [
       "[['']]"
      ]
     },
     "execution_count": 40,
     "metadata": {},
     "output_type": "execute_result"
    }
   ],
   "source": [
    "result = client.query('DROP TABLE IF EXISTS db1.instances')\n",
    "query = '''\n",
    "CREATE TABLE IF NOT EXISTS db1.instances\n",
    "(\n",
    "    hub String,\n",
    "    img String,\n",
    "    host String\n",
    ") ENGINE = MergeTree\n",
    "ORDER BY hub;\n",
    "'''\n",
    "result = client.query(query)\n",
    "result.result_rows"
   ]
  },
  {
   "cell_type": "code",
   "execution_count": 41,
   "id": "e73a0b40",
   "metadata": {},
   "outputs": [],
   "source": [
    "client.insert_df(\n",
    "    'db1.instances',\n",
    "    df_instances\n",
    ")"
   ]
  },
  {
   "cell_type": "code",
   "execution_count": 42,
   "id": "8fcb64a3",
   "metadata": {},
   "outputs": [
    {
     "data": {
      "text/plain": [
       "[('hub-56bbc6d5f7-5wsph',\n",
       "  'jupyterhub/k8s-hub:0.11.1',\n",
       "  'cl1flrrk4hvdbm084md4-ahoc'),\n",
       " ('hub-56bbc6d5f7-rgsct',\n",
       "  'jupyterhub/k8s-hub:0.11.1',\n",
       "  'cl1flrrk4hvdbm084md4-ahoc'),\n",
       " ('hub-57c88d997b-xh654',\n",
       "  'jupyterhub/k8s-hub:0.11.1',\n",
       "  'cl1flrrk4hvdbm084md4-elef'),\n",
       " ('hub-58f6d59b46-jfwm9',\n",
       "  'jupyterhub/k8s-hub:0.11.1',\n",
       "  'cl1flrrk4hvdbm084md4-ahoc'),\n",
       " ('hub-59778cfbc5-kb9tb',\n",
       "  'jupyterhub/k8s-hub:0.11.1',\n",
       "  'cl1flrrk4hvdbm084md4-elef')]"
      ]
     },
     "execution_count": 42,
     "metadata": {},
     "output_type": "execute_result"
    }
   ],
   "source": [
    "result = client.query(\n",
    "    \"SELECT * FROM db1.instances LIMIT 5\"\n",
    ")\n",
    "result.result_rows"
   ]
  },
  {
   "cell_type": "markdown",
   "id": "68d79489",
   "metadata": {},
   "source": [
    "#### 4.4. JupyterHub logs table"
   ]
  },
  {
   "cell_type": "code",
   "execution_count": 43,
   "id": "8a19aec3",
   "metadata": {},
   "outputs": [],
   "source": [
    "df_logs = df[[\n",
    "    'timestamp',\n",
    "    'hub',\n",
    "    'event_code',\n",
    "    'event_type',\n",
    "    'log',\n",
    "    'user'\n",
    "]].reset_index(drop=True)"
   ]
  },
  {
   "cell_type": "code",
   "execution_count": 44,
   "id": "f50cf96f",
   "metadata": {},
   "outputs": [],
   "source": [
    "df_logs.rename({'user': 'login'}, axis='columns', inplace=True)"
   ]
  },
  {
   "cell_type": "code",
   "execution_count": 45,
   "id": "64220b67",
   "metadata": {},
   "outputs": [
    {
     "data": {
      "text/plain": [
       "[['']]"
      ]
     },
     "execution_count": 45,
     "metadata": {},
     "output_type": "execute_result"
    }
   ],
   "source": [
    "result = client.query('DROP TABLE IF EXISTS db1.logs')\n",
    "query = '''\n",
    "CREATE TABLE IF NOT EXISTS db1.logs\n",
    "(\n",
    "    timestamp String,\n",
    "    hub String,\n",
    "    event_code String,\n",
    "    event_type String,\n",
    "    log String,\n",
    "    login String\n",
    ") ENGINE = MergeTree\n",
    "ORDER BY hub;\n",
    "'''\n",
    "result = client.query(query)\n",
    "result.result_rows"
   ]
  },
  {
   "cell_type": "code",
   "execution_count": 46,
   "id": "53af21fc",
   "metadata": {},
   "outputs": [],
   "source": [
    "client.insert_df(\n",
    "    'db1.logs',\n",
    "    df_logs\n",
    ")"
   ]
  },
  {
   "cell_type": "code",
   "execution_count": 47,
   "id": "1ae1afdc",
   "metadata": {},
   "outputs": [
    {
     "data": {
      "text/plain": [
       "[('2022-11-15 10:02:17.181',\n",
       "  'hub-56bbc6d5f7-5wsph',\n",
       "  '1344',\n",
       "  'base',\n",
       "  'failing suspected api request to not-running server',\n",
       "  'st061467'),\n",
       " ('2022-11-15 10:02:17.183',\n",
       "  'hub-56bbc6d5f7-5wsph',\n",
       "  '1344',\n",
       "  'base',\n",
       "  'failing suspected api request to not-running server',\n",
       "  'st061467'),\n",
       " ('2022-11-15 10:02:17.238',\n",
       "  'hub-56bbc6d5f7-5wsph',\n",
       "  '1344',\n",
       "  'base',\n",
       "  'failing suspected api request to not-running server',\n",
       "  'st061467'),\n",
       " ('2022-11-15 10:02:17.309',\n",
       "  'hub-56bbc6d5f7-5wsph',\n",
       "  '1344',\n",
       "  'base',\n",
       "  'failing suspected api request to not-running server',\n",
       "  'st061467'),\n",
       " ('2022-11-15 10:02:28.368',\n",
       "  'hub-56bbc6d5f7-5wsph',\n",
       "  '1344',\n",
       "  'base',\n",
       "  'failing suspected api request to not-running server',\n",
       "  'st061467')]"
      ]
     },
     "execution_count": 47,
     "metadata": {},
     "output_type": "execute_result"
    }
   ],
   "source": [
    "result = client.query(\n",
    "    \"SELECT * FROM db1.logs LIMIT 5\"\n",
    ")\n",
    "result.result_rows"
   ]
  },
  {
   "cell_type": "markdown",
   "id": "d55427dd",
   "metadata": {},
   "source": [
    "### 5. Drop everything (if necessary)"
   ]
  },
  {
   "cell_type": "code",
   "execution_count": 48,
   "id": "ec765d94",
   "metadata": {},
   "outputs": [
    {
     "data": {
      "text/plain": [
       "<clickhouse_connect.driver.query.QueryResult at 0x7f9706ca20d0>"
      ]
     },
     "execution_count": 48,
     "metadata": {},
     "output_type": "execute_result"
    }
   ],
   "source": [
    "client.query('DROP TABLE IF EXISTS db1.users')\n",
    "client.query('DROP TABLE IF EXISTS db1.instances')\n",
    "client.query('DROP TABLE IF EXISTS db1.logs')"
   ]
  },
  {
   "cell_type": "code",
   "execution_count": null,
   "id": "23616731",
   "metadata": {},
   "outputs": [],
   "source": []
  }
 ],
 "metadata": {
  "kernelspec": {
   "display_name": "Python 3 (ipykernel)",
   "language": "python",
   "name": "python3"
  },
  "language_info": {
   "codemirror_mode": {
    "name": "ipython",
    "version": 3
   },
   "file_extension": ".py",
   "mimetype": "text/x-python",
   "name": "python",
   "nbconvert_exporter": "python",
   "pygments_lexer": "ipython3",
   "version": "3.9.6"
  }
 },
 "nbformat": 4,
 "nbformat_minor": 5
}
